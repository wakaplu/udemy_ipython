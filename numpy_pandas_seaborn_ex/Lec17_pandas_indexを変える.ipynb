{
 "cells": [
  {
   "cell_type": "code",
   "execution_count": 2,
   "metadata": {
    "collapsed": false
   },
   "outputs": [],
   "source": [
    "import numpy as np\n",
    "import pandas as pd\n",
    "from pandas import Series,DataFrame\n",
    "from numpy.random import randn"
   ]
  },
  {
   "cell_type": "code",
   "execution_count": 3,
   "metadata": {
    "collapsed": true
   },
   "outputs": [],
   "source": [
    "ser1 = Series([1,2,3,4],index=['A','B','C','D'])"
   ]
  },
  {
   "cell_type": "code",
   "execution_count": 4,
   "metadata": {
    "collapsed": false
   },
   "outputs": [
    {
     "data": {
      "text/plain": [
       "A    1\n",
       "B    2\n",
       "C    3\n",
       "D    4\n",
       "dtype: int64"
      ]
     },
     "execution_count": 4,
     "metadata": {},
     "output_type": "execute_result"
    }
   ],
   "source": [
    "ser1"
   ]
  },
  {
   "cell_type": "code",
   "execution_count": 5,
   "metadata": {
    "collapsed": true
   },
   "outputs": [],
   "source": [
    "ser2 = ser1.reindex(['A','B','C','D','E','F'])"
   ]
  },
  {
   "cell_type": "code",
   "execution_count": 6,
   "metadata": {
    "collapsed": false
   },
   "outputs": [
    {
     "data": {
      "text/plain": [
       "A    1.0\n",
       "B    2.0\n",
       "C    3.0\n",
       "D    4.0\n",
       "E    NaN\n",
       "F    NaN\n",
       "dtype: float64"
      ]
     },
     "execution_count": 6,
     "metadata": {},
     "output_type": "execute_result"
    }
   ],
   "source": [
    "ser2"
   ]
  },
  {
   "cell_type": "code",
   "execution_count": 8,
   "metadata": {
    "collapsed": false
   },
   "outputs": [
    {
     "data": {
      "text/plain": [
       "A    1.0\n",
       "B    2.0\n",
       "C    3.0\n",
       "D    4.0\n",
       "E    NaN\n",
       "F    NaN\n",
       "G    0.0\n",
       "dtype: float64"
      ]
     },
     "execution_count": 8,
     "metadata": {},
     "output_type": "execute_result"
    }
   ],
   "source": [
    "ser2.reindex(['A','B','C','D','E','F','G'],fill_value=0)"
   ]
  },
  {
   "cell_type": "code",
   "execution_count": 9,
   "metadata": {
    "collapsed": true
   },
   "outputs": [],
   "source": [
    "ser3=Series(['USA','Mexico','Canada'],index=[0,5,10])"
   ]
  },
  {
   "cell_type": "code",
   "execution_count": 10,
   "metadata": {
    "collapsed": false
   },
   "outputs": [
    {
     "data": {
      "text/plain": [
       "0        USA\n",
       "5     Mexico\n",
       "10    Canada\n",
       "dtype: object"
      ]
     },
     "execution_count": 10,
     "metadata": {},
     "output_type": "execute_result"
    }
   ],
   "source": [
    "ser3"
   ]
  },
  {
   "cell_type": "code",
   "execution_count": 11,
   "metadata": {
    "collapsed": false
   },
   "outputs": [
    {
     "data": {
      "text/plain": [
       "0        USA\n",
       "1        USA\n",
       "2        USA\n",
       "3        USA\n",
       "4        USA\n",
       "5     Mexico\n",
       "6     Mexico\n",
       "7     Mexico\n",
       "8     Mexico\n",
       "9     Mexico\n",
       "10    Canada\n",
       "11    Canada\n",
       "12    Canada\n",
       "13    Canada\n",
       "14    Canada\n",
       "dtype: object"
      ]
     },
     "execution_count": 11,
     "metadata": {},
     "output_type": "execute_result"
    }
   ],
   "source": [
    "ser3.reindex(range(15),method='ffill')"
   ]
  },
  {
   "cell_type": "code",
   "execution_count": 22,
   "metadata": {
    "collapsed": false
   },
   "outputs": [],
   "source": [
    "dframe=DataFrame(randn(25).reshape((5,5)),index=['A','B','D','E','F'],columns=['col1','col2','col3','col4','col5'])"
   ]
  },
  {
   "cell_type": "code",
   "execution_count": 23,
   "metadata": {
    "collapsed": false
   },
   "outputs": [
    {
     "data": {
      "text/html": [
       "<div>\n",
       "<table border=\"1\" class=\"dataframe\">\n",
       "  <thead>\n",
       "    <tr style=\"text-align: right;\">\n",
       "      <th></th>\n",
       "      <th>col1</th>\n",
       "      <th>col2</th>\n",
       "      <th>col3</th>\n",
       "      <th>col4</th>\n",
       "      <th>col5</th>\n",
       "    </tr>\n",
       "  </thead>\n",
       "  <tbody>\n",
       "    <tr>\n",
       "      <th>A</th>\n",
       "      <td>-0.856131</td>\n",
       "      <td>0.945221</td>\n",
       "      <td>1.080910</td>\n",
       "      <td>-0.436133</td>\n",
       "      <td>-0.925346</td>\n",
       "    </tr>\n",
       "    <tr>\n",
       "      <th>B</th>\n",
       "      <td>-0.214977</td>\n",
       "      <td>0.565616</td>\n",
       "      <td>1.918582</td>\n",
       "      <td>-0.497995</td>\n",
       "      <td>0.699304</td>\n",
       "    </tr>\n",
       "    <tr>\n",
       "      <th>D</th>\n",
       "      <td>0.422309</td>\n",
       "      <td>1.036193</td>\n",
       "      <td>-0.158198</td>\n",
       "      <td>0.393676</td>\n",
       "      <td>-0.605564</td>\n",
       "    </tr>\n",
       "    <tr>\n",
       "      <th>E</th>\n",
       "      <td>0.135305</td>\n",
       "      <td>-0.196262</td>\n",
       "      <td>-1.485507</td>\n",
       "      <td>-0.654149</td>\n",
       "      <td>0.970248</td>\n",
       "    </tr>\n",
       "    <tr>\n",
       "      <th>F</th>\n",
       "      <td>0.993240</td>\n",
       "      <td>-0.085784</td>\n",
       "      <td>0.041589</td>\n",
       "      <td>2.127414</td>\n",
       "      <td>1.421654</td>\n",
       "    </tr>\n",
       "  </tbody>\n",
       "</table>\n",
       "</div>"
      ],
      "text/plain": [
       "       col1      col2      col3      col4      col5\n",
       "A -0.856131  0.945221  1.080910 -0.436133 -0.925346\n",
       "B -0.214977  0.565616  1.918582 -0.497995  0.699304\n",
       "D  0.422309  1.036193 -0.158198  0.393676 -0.605564\n",
       "E  0.135305 -0.196262 -1.485507 -0.654149  0.970248\n",
       "F  0.993240 -0.085784  0.041589  2.127414  1.421654"
      ]
     },
     "execution_count": 23,
     "metadata": {},
     "output_type": "execute_result"
    }
   ],
   "source": [
    "dframe"
   ]
  },
  {
   "cell_type": "code",
   "execution_count": 24,
   "metadata": {
    "collapsed": true
   },
   "outputs": [],
   "source": [
    "new_index =['A','B','C','D','E','F']\n",
    "dframe2=dframe.reindex(new_index)"
   ]
  },
  {
   "cell_type": "code",
   "execution_count": 25,
   "metadata": {
    "collapsed": false
   },
   "outputs": [
    {
     "data": {
      "text/html": [
       "<div>\n",
       "<table border=\"1\" class=\"dataframe\">\n",
       "  <thead>\n",
       "    <tr style=\"text-align: right;\">\n",
       "      <th></th>\n",
       "      <th>col1</th>\n",
       "      <th>col2</th>\n",
       "      <th>col3</th>\n",
       "      <th>col4</th>\n",
       "      <th>col5</th>\n",
       "    </tr>\n",
       "  </thead>\n",
       "  <tbody>\n",
       "    <tr>\n",
       "      <th>A</th>\n",
       "      <td>-0.856131</td>\n",
       "      <td>0.945221</td>\n",
       "      <td>1.080910</td>\n",
       "      <td>-0.436133</td>\n",
       "      <td>-0.925346</td>\n",
       "    </tr>\n",
       "    <tr>\n",
       "      <th>B</th>\n",
       "      <td>-0.214977</td>\n",
       "      <td>0.565616</td>\n",
       "      <td>1.918582</td>\n",
       "      <td>-0.497995</td>\n",
       "      <td>0.699304</td>\n",
       "    </tr>\n",
       "    <tr>\n",
       "      <th>C</th>\n",
       "      <td>NaN</td>\n",
       "      <td>NaN</td>\n",
       "      <td>NaN</td>\n",
       "      <td>NaN</td>\n",
       "      <td>NaN</td>\n",
       "    </tr>\n",
       "    <tr>\n",
       "      <th>D</th>\n",
       "      <td>0.422309</td>\n",
       "      <td>1.036193</td>\n",
       "      <td>-0.158198</td>\n",
       "      <td>0.393676</td>\n",
       "      <td>-0.605564</td>\n",
       "    </tr>\n",
       "    <tr>\n",
       "      <th>E</th>\n",
       "      <td>0.135305</td>\n",
       "      <td>-0.196262</td>\n",
       "      <td>-1.485507</td>\n",
       "      <td>-0.654149</td>\n",
       "      <td>0.970248</td>\n",
       "    </tr>\n",
       "    <tr>\n",
       "      <th>F</th>\n",
       "      <td>0.993240</td>\n",
       "      <td>-0.085784</td>\n",
       "      <td>0.041589</td>\n",
       "      <td>2.127414</td>\n",
       "      <td>1.421654</td>\n",
       "    </tr>\n",
       "  </tbody>\n",
       "</table>\n",
       "</div>"
      ],
      "text/plain": [
       "       col1      col2      col3      col4      col5\n",
       "A -0.856131  0.945221  1.080910 -0.436133 -0.925346\n",
       "B -0.214977  0.565616  1.918582 -0.497995  0.699304\n",
       "C       NaN       NaN       NaN       NaN       NaN\n",
       "D  0.422309  1.036193 -0.158198  0.393676 -0.605564\n",
       "E  0.135305 -0.196262 -1.485507 -0.654149  0.970248\n",
       "F  0.993240 -0.085784  0.041589  2.127414  1.421654"
      ]
     },
     "execution_count": 25,
     "metadata": {},
     "output_type": "execute_result"
    }
   ],
   "source": [
    "dframe2"
   ]
  },
  {
   "cell_type": "code",
   "execution_count": 28,
   "metadata": {
    "collapsed": false
   },
   "outputs": [
    {
     "data": {
      "text/html": [
       "<div>\n",
       "<table border=\"1\" class=\"dataframe\">\n",
       "  <thead>\n",
       "    <tr style=\"text-align: right;\">\n",
       "      <th></th>\n",
       "      <th>col1</th>\n",
       "      <th>col2</th>\n",
       "      <th>col3</th>\n",
       "      <th>col4</th>\n",
       "      <th>col5</th>\n",
       "      <th>col6</th>\n",
       "    </tr>\n",
       "  </thead>\n",
       "  <tbody>\n",
       "    <tr>\n",
       "      <th>A</th>\n",
       "      <td>-0.856131</td>\n",
       "      <td>0.945221</td>\n",
       "      <td>1.080910</td>\n",
       "      <td>-0.436133</td>\n",
       "      <td>-0.925346</td>\n",
       "      <td>NaN</td>\n",
       "    </tr>\n",
       "    <tr>\n",
       "      <th>B</th>\n",
       "      <td>-0.214977</td>\n",
       "      <td>0.565616</td>\n",
       "      <td>1.918582</td>\n",
       "      <td>-0.497995</td>\n",
       "      <td>0.699304</td>\n",
       "      <td>NaN</td>\n",
       "    </tr>\n",
       "    <tr>\n",
       "      <th>C</th>\n",
       "      <td>NaN</td>\n",
       "      <td>NaN</td>\n",
       "      <td>NaN</td>\n",
       "      <td>NaN</td>\n",
       "      <td>NaN</td>\n",
       "      <td>NaN</td>\n",
       "    </tr>\n",
       "    <tr>\n",
       "      <th>D</th>\n",
       "      <td>0.422309</td>\n",
       "      <td>1.036193</td>\n",
       "      <td>-0.158198</td>\n",
       "      <td>0.393676</td>\n",
       "      <td>-0.605564</td>\n",
       "      <td>NaN</td>\n",
       "    </tr>\n",
       "    <tr>\n",
       "      <th>E</th>\n",
       "      <td>0.135305</td>\n",
       "      <td>-0.196262</td>\n",
       "      <td>-1.485507</td>\n",
       "      <td>-0.654149</td>\n",
       "      <td>0.970248</td>\n",
       "      <td>NaN</td>\n",
       "    </tr>\n",
       "    <tr>\n",
       "      <th>F</th>\n",
       "      <td>0.993240</td>\n",
       "      <td>-0.085784</td>\n",
       "      <td>0.041589</td>\n",
       "      <td>2.127414</td>\n",
       "      <td>1.421654</td>\n",
       "      <td>NaN</td>\n",
       "    </tr>\n",
       "  </tbody>\n",
       "</table>\n",
       "</div>"
      ],
      "text/plain": [
       "       col1      col2      col3      col4      col5  col6\n",
       "A -0.856131  0.945221  1.080910 -0.436133 -0.925346   NaN\n",
       "B -0.214977  0.565616  1.918582 -0.497995  0.699304   NaN\n",
       "C       NaN       NaN       NaN       NaN       NaN   NaN\n",
       "D  0.422309  1.036193 -0.158198  0.393676 -0.605564   NaN\n",
       "E  0.135305 -0.196262 -1.485507 -0.654149  0.970248   NaN\n",
       "F  0.993240 -0.085784  0.041589  2.127414  1.421654   NaN"
      ]
     },
     "execution_count": 28,
     "metadata": {},
     "output_type": "execute_result"
    }
   ],
   "source": [
    "new_columns =['col1','col2','col3','col4','col5','col6']\n",
    "dframe2.reindex(columns=new_columns)"
   ]
  },
  {
   "cell_type": "code",
   "execution_count": 30,
   "metadata": {
    "collapsed": false
   },
   "outputs": [
    {
     "data": {
      "text/html": [
       "<div>\n",
       "<table border=\"1\" class=\"dataframe\">\n",
       "  <thead>\n",
       "    <tr style=\"text-align: right;\">\n",
       "      <th></th>\n",
       "      <th>col1</th>\n",
       "      <th>col2</th>\n",
       "      <th>col3</th>\n",
       "      <th>col4</th>\n",
       "      <th>col5</th>\n",
       "    </tr>\n",
       "  </thead>\n",
       "  <tbody>\n",
       "    <tr>\n",
       "      <th>A</th>\n",
       "      <td>-0.856131</td>\n",
       "      <td>0.945221</td>\n",
       "      <td>1.080910</td>\n",
       "      <td>-0.436133</td>\n",
       "      <td>-0.925346</td>\n",
       "    </tr>\n",
       "    <tr>\n",
       "      <th>B</th>\n",
       "      <td>-0.214977</td>\n",
       "      <td>0.565616</td>\n",
       "      <td>1.918582</td>\n",
       "      <td>-0.497995</td>\n",
       "      <td>0.699304</td>\n",
       "    </tr>\n",
       "    <tr>\n",
       "      <th>D</th>\n",
       "      <td>0.422309</td>\n",
       "      <td>1.036193</td>\n",
       "      <td>-0.158198</td>\n",
       "      <td>0.393676</td>\n",
       "      <td>-0.605564</td>\n",
       "    </tr>\n",
       "    <tr>\n",
       "      <th>E</th>\n",
       "      <td>0.135305</td>\n",
       "      <td>-0.196262</td>\n",
       "      <td>-1.485507</td>\n",
       "      <td>-0.654149</td>\n",
       "      <td>0.970248</td>\n",
       "    </tr>\n",
       "    <tr>\n",
       "      <th>F</th>\n",
       "      <td>0.993240</td>\n",
       "      <td>-0.085784</td>\n",
       "      <td>0.041589</td>\n",
       "      <td>2.127414</td>\n",
       "      <td>1.421654</td>\n",
       "    </tr>\n",
       "  </tbody>\n",
       "</table>\n",
       "</div>"
      ],
      "text/plain": [
       "       col1      col2      col3      col4      col5\n",
       "A -0.856131  0.945221  1.080910 -0.436133 -0.925346\n",
       "B -0.214977  0.565616  1.918582 -0.497995  0.699304\n",
       "D  0.422309  1.036193 -0.158198  0.393676 -0.605564\n",
       "E  0.135305 -0.196262 -1.485507 -0.654149  0.970248\n",
       "F  0.993240 -0.085784  0.041589  2.127414  1.421654"
      ]
     },
     "execution_count": 30,
     "metadata": {},
     "output_type": "execute_result"
    }
   ],
   "source": [
    "dframe"
   ]
  },
  {
   "cell_type": "code",
   "execution_count": 31,
   "metadata": {
    "collapsed": false
   },
   "outputs": [
    {
     "data": {
      "text/html": [
       "<div>\n",
       "<table border=\"1\" class=\"dataframe\">\n",
       "  <thead>\n",
       "    <tr style=\"text-align: right;\">\n",
       "      <th></th>\n",
       "      <th>col1</th>\n",
       "      <th>col2</th>\n",
       "      <th>col3</th>\n",
       "      <th>col4</th>\n",
       "      <th>col5</th>\n",
       "      <th>col6</th>\n",
       "    </tr>\n",
       "  </thead>\n",
       "  <tbody>\n",
       "    <tr>\n",
       "      <th>A</th>\n",
       "      <td>-0.856131</td>\n",
       "      <td>0.945221</td>\n",
       "      <td>1.080910</td>\n",
       "      <td>-0.436133</td>\n",
       "      <td>-0.925346</td>\n",
       "      <td>NaN</td>\n",
       "    </tr>\n",
       "    <tr>\n",
       "      <th>B</th>\n",
       "      <td>-0.214977</td>\n",
       "      <td>0.565616</td>\n",
       "      <td>1.918582</td>\n",
       "      <td>-0.497995</td>\n",
       "      <td>0.699304</td>\n",
       "      <td>NaN</td>\n",
       "    </tr>\n",
       "    <tr>\n",
       "      <th>C</th>\n",
       "      <td>NaN</td>\n",
       "      <td>NaN</td>\n",
       "      <td>NaN</td>\n",
       "      <td>NaN</td>\n",
       "      <td>NaN</td>\n",
       "      <td>NaN</td>\n",
       "    </tr>\n",
       "    <tr>\n",
       "      <th>D</th>\n",
       "      <td>0.422309</td>\n",
       "      <td>1.036193</td>\n",
       "      <td>-0.158198</td>\n",
       "      <td>0.393676</td>\n",
       "      <td>-0.605564</td>\n",
       "      <td>NaN</td>\n",
       "    </tr>\n",
       "    <tr>\n",
       "      <th>E</th>\n",
       "      <td>0.135305</td>\n",
       "      <td>-0.196262</td>\n",
       "      <td>-1.485507</td>\n",
       "      <td>-0.654149</td>\n",
       "      <td>0.970248</td>\n",
       "      <td>NaN</td>\n",
       "    </tr>\n",
       "    <tr>\n",
       "      <th>F</th>\n",
       "      <td>0.993240</td>\n",
       "      <td>-0.085784</td>\n",
       "      <td>0.041589</td>\n",
       "      <td>2.127414</td>\n",
       "      <td>1.421654</td>\n",
       "      <td>NaN</td>\n",
       "    </tr>\n",
       "  </tbody>\n",
       "</table>\n",
       "</div>"
      ],
      "text/plain": [
       "       col1      col2      col3      col4      col5  col6\n",
       "A -0.856131  0.945221  1.080910 -0.436133 -0.925346   NaN\n",
       "B -0.214977  0.565616  1.918582 -0.497995  0.699304   NaN\n",
       "C       NaN       NaN       NaN       NaN       NaN   NaN\n",
       "D  0.422309  1.036193 -0.158198  0.393676 -0.605564   NaN\n",
       "E  0.135305 -0.196262 -1.485507 -0.654149  0.970248   NaN\n",
       "F  0.993240 -0.085784  0.041589  2.127414  1.421654   NaN"
      ]
     },
     "execution_count": 31,
     "metadata": {},
     "output_type": "execute_result"
    }
   ],
   "source": [
    "dframe.ix[new_index,new_columns]"
   ]
  },
  {
   "cell_type": "code",
   "execution_count": null,
   "metadata": {
    "collapsed": true
   },
   "outputs": [],
   "source": []
  }
 ],
 "metadata": {
  "kernelspec": {
   "display_name": "Python [conda root]",
   "language": "python",
   "name": "conda-root-py"
  },
  "language_info": {
   "codemirror_mode": {
    "name": "ipython",
    "version": 3
   },
   "file_extension": ".py",
   "mimetype": "text/x-python",
   "name": "python",
   "nbconvert_exporter": "python",
   "pygments_lexer": "ipython3",
   "version": "3.5.2"
  }
 },
 "nbformat": 4,
 "nbformat_minor": 1
}
